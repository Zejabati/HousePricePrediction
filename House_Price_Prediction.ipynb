{
  "nbformat": 4,
  "nbformat_minor": 0,
  "metadata": {
    "colab": {
      "provenance": [],
      "include_colab_link": true
    },
    "kernelspec": {
      "display_name": "Python 3",
      "language": "python",
      "name": "python3"
    },
    "language_info": {
      "codemirror_mode": {
        "name": "ipython",
        "version": 3
      },
      "file_extension": ".py",
      "mimetype": "text/x-python",
      "name": "python",
      "nbconvert_exporter": "python",
      "pygments_lexer": "ipython3",
      "version": "3.7.3"
    }
  },
  "cells": [
    {
      "cell_type": "markdown",
      "metadata": {
        "id": "view-in-github",
        "colab_type": "text"
      },
      "source": [
        "<a href=\"https://colab.research.google.com/github/Zejabati/House_Price_Prediction/blob/main/House_Price_Prediction.ipynb\" target=\"_parent\"><img src=\"https://colab.research.google.com/assets/colab-badge.svg\" alt=\"Open In Colab\"/></a>"
      ]
    },
    {
      "cell_type": "code",
      "metadata": {
        "id": "WWdHkuVdkQDj"
      },
      "source": [
        "import pandas as pd\n",
        "import seaborn as sns\n",
        "import matplotlib.pyplot as plt\n",
        "import numpy as np\n",
        "from sklearn.linear_model import LinearRegression\n",
        "from sklearn.model_selection import train_test_split\n",
        "from sklearn.metrics import r2_score\n",
        "import umap\n",
        "from sklearn.datasets import load_digits\n",
        "from sklearn.decomposition import FastICA\n",
        "from sklearn.linear_model import Ridge, Lasso\n",
        "from sklearn.model_selection import GridSearchCV\n",
        "from sklearn import preprocessing\n",
        "from sklearn.linear_model import ElasticNet\n",
        "from sklearn.metrics import mean_squared_error\n",
        "from sklearn import preprocessing"
      ],
      "execution_count": null,
      "outputs": []
    },
    {
      "cell_type": "code",
      "metadata": {
        "id": "NN6DHLvtkbQh",
        "outputId": "39fe936f-892e-4cd4-dff5-0134aa2cb417",
        "colab": {
          "base_uri": "https://localhost:8080/",
          "height": 326
        }
      },
      "source": [
        "# load data\n",
        "data = pd.read_csv('DataMining_HWI_Dataset.csv')\n",
        "\n",
        "print(type(data))\n",
        "data.head()"
      ],
      "execution_count": null,
      "outputs": [
        {
          "output_type": "stream",
          "text": [
            "<class 'pandas.core.frame.DataFrame'>\n"
          ],
          "name": "stdout"
        },
        {
          "output_type": "execute_result",
          "data": {
            "text/html": [
              "<div>\n",
              "<style scoped>\n",
              "    .dataframe tbody tr th:only-of-type {\n",
              "        vertical-align: middle;\n",
              "    }\n",
              "\n",
              "    .dataframe tbody tr th {\n",
              "        vertical-align: top;\n",
              "    }\n",
              "\n",
              "    .dataframe thead th {\n",
              "        text-align: right;\n",
              "    }\n",
              "</style>\n",
              "<table border=\"1\" class=\"dataframe\">\n",
              "  <thead>\n",
              "    <tr style=\"text-align: right;\">\n",
              "      <th></th>\n",
              "      <th>rental_id</th>\n",
              "      <th>building_id</th>\n",
              "      <th>rent</th>\n",
              "      <th>bedrooms</th>\n",
              "      <th>bathrooms</th>\n",
              "      <th>size_sqft</th>\n",
              "      <th>min_to_subway</th>\n",
              "      <th>floor</th>\n",
              "      <th>building_age_yrs</th>\n",
              "      <th>no_fee</th>\n",
              "      <th>has_roofdeck</th>\n",
              "      <th>has_washer_dryer</th>\n",
              "      <th>has_doorman</th>\n",
              "      <th>has_elevator</th>\n",
              "      <th>has_dishwasher</th>\n",
              "      <th>has_patio</th>\n",
              "      <th>has_gym</th>\n",
              "      <th>neighborhood</th>\n",
              "      <th>submarket</th>\n",
              "      <th>borough</th>\n",
              "    </tr>\n",
              "  </thead>\n",
              "  <tbody>\n",
              "    <tr>\n",
              "      <th>0</th>\n",
              "      <td>1545</td>\n",
              "      <td>44518357</td>\n",
              "      <td>2550</td>\n",
              "      <td>0.0</td>\n",
              "      <td>1</td>\n",
              "      <td>480</td>\n",
              "      <td>9</td>\n",
              "      <td>2.0</td>\n",
              "      <td>17</td>\n",
              "      <td>1</td>\n",
              "      <td>1</td>\n",
              "      <td>0</td>\n",
              "      <td>0</td>\n",
              "      <td>1</td>\n",
              "      <td>1</td>\n",
              "      <td>0</td>\n",
              "      <td>1</td>\n",
              "      <td>Upper East Side</td>\n",
              "      <td>All Upper East Side</td>\n",
              "      <td>Manhattan</td>\n",
              "    </tr>\n",
              "    <tr>\n",
              "      <th>1</th>\n",
              "      <td>2472</td>\n",
              "      <td>94441623</td>\n",
              "      <td>11500</td>\n",
              "      <td>2.0</td>\n",
              "      <td>2</td>\n",
              "      <td>2000</td>\n",
              "      <td>4</td>\n",
              "      <td>1.0</td>\n",
              "      <td>96</td>\n",
              "      <td>0</td>\n",
              "      <td>0</td>\n",
              "      <td>0</td>\n",
              "      <td>0</td>\n",
              "      <td>0</td>\n",
              "      <td>0</td>\n",
              "      <td>0</td>\n",
              "      <td>0</td>\n",
              "      <td>Greenwich Village</td>\n",
              "      <td>All Downtown</td>\n",
              "      <td>Manhattan</td>\n",
              "    </tr>\n",
              "    <tr>\n",
              "      <th>2</th>\n",
              "      <td>10234</td>\n",
              "      <td>87632265</td>\n",
              "      <td>3000</td>\n",
              "      <td>3.0</td>\n",
              "      <td>1</td>\n",
              "      <td>1000</td>\n",
              "      <td>4</td>\n",
              "      <td>1.0</td>\n",
              "      <td>106</td>\n",
              "      <td>0</td>\n",
              "      <td>0</td>\n",
              "      <td>0</td>\n",
              "      <td>0</td>\n",
              "      <td>0</td>\n",
              "      <td>0</td>\n",
              "      <td>0</td>\n",
              "      <td>0</td>\n",
              "      <td>Astoria</td>\n",
              "      <td>Northwest Queens</td>\n",
              "      <td>Queens</td>\n",
              "    </tr>\n",
              "    <tr>\n",
              "      <th>3</th>\n",
              "      <td>2919</td>\n",
              "      <td>76909719</td>\n",
              "      <td>4500</td>\n",
              "      <td>1.0</td>\n",
              "      <td>1</td>\n",
              "      <td>916</td>\n",
              "      <td>2</td>\n",
              "      <td>51.0</td>\n",
              "      <td>29</td>\n",
              "      <td>0</td>\n",
              "      <td>1</td>\n",
              "      <td>0</td>\n",
              "      <td>1</td>\n",
              "      <td>1</td>\n",
              "      <td>1</td>\n",
              "      <td>0</td>\n",
              "      <td>0</td>\n",
              "      <td>Midtown</td>\n",
              "      <td>All Midtown</td>\n",
              "      <td>Manhattan</td>\n",
              "    </tr>\n",
              "    <tr>\n",
              "      <th>4</th>\n",
              "      <td>2790</td>\n",
              "      <td>92953520</td>\n",
              "      <td>4795</td>\n",
              "      <td>1.0</td>\n",
              "      <td>1</td>\n",
              "      <td>975</td>\n",
              "      <td>3</td>\n",
              "      <td>8.0</td>\n",
              "      <td>31</td>\n",
              "      <td>0</td>\n",
              "      <td>0</td>\n",
              "      <td>0</td>\n",
              "      <td>1</td>\n",
              "      <td>1</td>\n",
              "      <td>1</td>\n",
              "      <td>0</td>\n",
              "      <td>1</td>\n",
              "      <td>Greenwich Village</td>\n",
              "      <td>All Downtown</td>\n",
              "      <td>Manhattan</td>\n",
              "    </tr>\n",
              "  </tbody>\n",
              "</table>\n",
              "</div>"
            ],
            "text/plain": [
              "   rental_id  building_id  ...            submarket    borough\n",
              "0       1545     44518357  ...  All Upper East Side  Manhattan\n",
              "1       2472     94441623  ...         All Downtown  Manhattan\n",
              "2      10234     87632265  ...     Northwest Queens     Queens\n",
              "3       2919     76909719  ...          All Midtown  Manhattan\n",
              "4       2790     92953520  ...         All Downtown  Manhattan\n",
              "\n",
              "[5 rows x 20 columns]"
            ]
          },
          "metadata": {
            "tags": []
          },
          "execution_count": 42
        }
      ]
    },
    {
      "cell_type": "code",
      "metadata": {
        "id": "nXxjrEUwlr6N",
        "outputId": "5a661f4b-589a-4b27-b1f7-cda12965c461",
        "colab": {
          "base_uri": "https://localhost:8080/",
          "height": 317
        }
      },
      "source": [
        "data.describe()"
      ],
      "execution_count": null,
      "outputs": [
        {
          "output_type": "execute_result",
          "data": {
            "text/html": [
              "<div>\n",
              "<style scoped>\n",
              "    .dataframe tbody tr th:only-of-type {\n",
              "        vertical-align: middle;\n",
              "    }\n",
              "\n",
              "    .dataframe tbody tr th {\n",
              "        vertical-align: top;\n",
              "    }\n",
              "\n",
              "    .dataframe thead th {\n",
              "        text-align: right;\n",
              "    }\n",
              "</style>\n",
              "<table border=\"1\" class=\"dataframe\">\n",
              "  <thead>\n",
              "    <tr style=\"text-align: right;\">\n",
              "      <th></th>\n",
              "      <th>rental_id</th>\n",
              "      <th>building_id</th>\n",
              "      <th>rent</th>\n",
              "      <th>bedrooms</th>\n",
              "      <th>bathrooms</th>\n",
              "      <th>size_sqft</th>\n",
              "      <th>min_to_subway</th>\n",
              "      <th>floor</th>\n",
              "      <th>building_age_yrs</th>\n",
              "      <th>no_fee</th>\n",
              "      <th>has_roofdeck</th>\n",
              "      <th>has_washer_dryer</th>\n",
              "      <th>has_doorman</th>\n",
              "      <th>has_elevator</th>\n",
              "      <th>has_dishwasher</th>\n",
              "      <th>has_patio</th>\n",
              "      <th>has_gym</th>\n",
              "    </tr>\n",
              "  </thead>\n",
              "  <tbody>\n",
              "    <tr>\n",
              "      <th>count</th>\n",
              "      <td>5000.000000</td>\n",
              "      <td>5.000000e+03</td>\n",
              "      <td>5000.000000</td>\n",
              "      <td>5000.000000</td>\n",
              "      <td>5000.000000</td>\n",
              "      <td>5000.000000</td>\n",
              "      <td>5000.000000</td>\n",
              "      <td>5000.000000</td>\n",
              "      <td>5000.000000</td>\n",
              "      <td>5000.000000</td>\n",
              "      <td>5000.00000</td>\n",
              "      <td>5000.000000</td>\n",
              "      <td>5000.000000</td>\n",
              "      <td>5000.000000</td>\n",
              "      <td>5000.000000</td>\n",
              "      <td>5000.000000</td>\n",
              "      <td>5000.000000</td>\n",
              "    </tr>\n",
              "    <tr>\n",
              "      <th>mean</th>\n",
              "      <td>5526.909400</td>\n",
              "      <td>5.122007e+07</td>\n",
              "      <td>4536.920800</td>\n",
              "      <td>1.395700</td>\n",
              "      <td>1.321600</td>\n",
              "      <td>920.101400</td>\n",
              "      <td>5.079200</td>\n",
              "      <td>10.190200</td>\n",
              "      <td>52.093200</td>\n",
              "      <td>0.429600</td>\n",
              "      <td>0.12860</td>\n",
              "      <td>0.133800</td>\n",
              "      <td>0.228000</td>\n",
              "      <td>0.240000</td>\n",
              "      <td>0.155600</td>\n",
              "      <td>0.045600</td>\n",
              "      <td>0.143800</td>\n",
              "    </tr>\n",
              "    <tr>\n",
              "      <th>std</th>\n",
              "      <td>3263.692417</td>\n",
              "      <td>2.802283e+07</td>\n",
              "      <td>2929.838953</td>\n",
              "      <td>0.961018</td>\n",
              "      <td>0.565542</td>\n",
              "      <td>440.150464</td>\n",
              "      <td>5.268897</td>\n",
              "      <td>10.565361</td>\n",
              "      <td>40.224501</td>\n",
              "      <td>0.495069</td>\n",
              "      <td>0.33479</td>\n",
              "      <td>0.340471</td>\n",
              "      <td>0.419585</td>\n",
              "      <td>0.427126</td>\n",
              "      <td>0.362512</td>\n",
              "      <td>0.208637</td>\n",
              "      <td>0.350922</td>\n",
              "    </tr>\n",
              "    <tr>\n",
              "      <th>min</th>\n",
              "      <td>1.000000</td>\n",
              "      <td>7.107000e+03</td>\n",
              "      <td>1250.000000</td>\n",
              "      <td>0.000000</td>\n",
              "      <td>0.000000</td>\n",
              "      <td>250.000000</td>\n",
              "      <td>0.000000</td>\n",
              "      <td>0.000000</td>\n",
              "      <td>0.000000</td>\n",
              "      <td>0.000000</td>\n",
              "      <td>0.00000</td>\n",
              "      <td>0.000000</td>\n",
              "      <td>0.000000</td>\n",
              "      <td>0.000000</td>\n",
              "      <td>0.000000</td>\n",
              "      <td>0.000000</td>\n",
              "      <td>0.000000</td>\n",
              "    </tr>\n",
              "    <tr>\n",
              "      <th>25%</th>\n",
              "      <td>2699.750000</td>\n",
              "      <td>2.699811e+07</td>\n",
              "      <td>2750.000000</td>\n",
              "      <td>1.000000</td>\n",
              "      <td>1.000000</td>\n",
              "      <td>633.000000</td>\n",
              "      <td>2.000000</td>\n",
              "      <td>3.000000</td>\n",
              "      <td>12.000000</td>\n",
              "      <td>0.000000</td>\n",
              "      <td>0.00000</td>\n",
              "      <td>0.000000</td>\n",
              "      <td>0.000000</td>\n",
              "      <td>0.000000</td>\n",
              "      <td>0.000000</td>\n",
              "      <td>0.000000</td>\n",
              "      <td>0.000000</td>\n",
              "    </tr>\n",
              "    <tr>\n",
              "      <th>50%</th>\n",
              "      <td>5456.500000</td>\n",
              "      <td>5.069894e+07</td>\n",
              "      <td>3600.000000</td>\n",
              "      <td>1.000000</td>\n",
              "      <td>1.000000</td>\n",
              "      <td>800.000000</td>\n",
              "      <td>4.000000</td>\n",
              "      <td>6.000000</td>\n",
              "      <td>44.000000</td>\n",
              "      <td>0.000000</td>\n",
              "      <td>0.00000</td>\n",
              "      <td>0.000000</td>\n",
              "      <td>0.000000</td>\n",
              "      <td>0.000000</td>\n",
              "      <td>0.000000</td>\n",
              "      <td>0.000000</td>\n",
              "      <td>0.000000</td>\n",
              "    </tr>\n",
              "    <tr>\n",
              "      <th>75%</th>\n",
              "      <td>8306.000000</td>\n",
              "      <td>7.572064e+07</td>\n",
              "      <td>5200.000000</td>\n",
              "      <td>2.000000</td>\n",
              "      <td>2.000000</td>\n",
              "      <td>1094.000000</td>\n",
              "      <td>6.000000</td>\n",
              "      <td>14.000000</td>\n",
              "      <td>89.000000</td>\n",
              "      <td>1.000000</td>\n",
              "      <td>0.00000</td>\n",
              "      <td>0.000000</td>\n",
              "      <td>0.000000</td>\n",
              "      <td>0.000000</td>\n",
              "      <td>0.000000</td>\n",
              "      <td>0.000000</td>\n",
              "      <td>0.000000</td>\n",
              "    </tr>\n",
              "    <tr>\n",
              "      <th>max</th>\n",
              "      <td>11349.000000</td>\n",
              "      <td>9.998721e+07</td>\n",
              "      <td>20000.000000</td>\n",
              "      <td>5.000000</td>\n",
              "      <td>5.000000</td>\n",
              "      <td>4800.000000</td>\n",
              "      <td>51.000000</td>\n",
              "      <td>83.000000</td>\n",
              "      <td>180.000000</td>\n",
              "      <td>1.000000</td>\n",
              "      <td>1.00000</td>\n",
              "      <td>1.000000</td>\n",
              "      <td>1.000000</td>\n",
              "      <td>1.000000</td>\n",
              "      <td>1.000000</td>\n",
              "      <td>1.000000</td>\n",
              "      <td>1.000000</td>\n",
              "    </tr>\n",
              "  </tbody>\n",
              "</table>\n",
              "</div>"
            ],
            "text/plain": [
              "          rental_id   building_id  ...    has_patio      has_gym\n",
              "count   5000.000000  5.000000e+03  ...  5000.000000  5000.000000\n",
              "mean    5526.909400  5.122007e+07  ...     0.045600     0.143800\n",
              "std     3263.692417  2.802283e+07  ...     0.208637     0.350922\n",
              "min        1.000000  7.107000e+03  ...     0.000000     0.000000\n",
              "25%     2699.750000  2.699811e+07  ...     0.000000     0.000000\n",
              "50%     5456.500000  5.069894e+07  ...     0.000000     0.000000\n",
              "75%     8306.000000  7.572064e+07  ...     0.000000     0.000000\n",
              "max    11349.000000  9.998721e+07  ...     1.000000     1.000000\n",
              "\n",
              "[8 rows x 17 columns]"
            ]
          },
          "metadata": {
            "tags": []
          },
          "execution_count": 43
        }
      ]
    },
    {
      "cell_type": "code",
      "metadata": {
        "id": "0n9l07SvnXDR",
        "outputId": "93478f7d-2db2-45eb-893e-70d6c71b6737",
        "colab": {
          "base_uri": "https://localhost:8080/",
          "height": 34
        }
      },
      "source": [
        "data.shape"
      ],
      "execution_count": null,
      "outputs": [
        {
          "output_type": "execute_result",
          "data": {
            "text/plain": [
              "(5000, 20)"
            ]
          },
          "metadata": {
            "tags": []
          },
          "execution_count": 44
        }
      ]
    },
    {
      "cell_type": "code",
      "metadata": {
        "id": "FubcfVlinZ6a",
        "outputId": "52400a26-6543-49a8-9a95-7b20339f5a9f",
        "colab": {
          "base_uri": "https://localhost:8080/",
          "height": 119
        }
      },
      "source": [
        "data.columns"
      ],
      "execution_count": null,
      "outputs": [
        {
          "output_type": "execute_result",
          "data": {
            "text/plain": [
              "Index(['rental_id', 'building_id', 'rent', 'bedrooms', 'bathrooms',\n",
              "       'size_sqft', 'min_to_subway', 'floor', 'building_age_yrs', 'no_fee',\n",
              "       'has_roofdeck', 'has_washer_dryer', 'has_doorman', 'has_elevator',\n",
              "       'has_dishwasher', 'has_patio', 'has_gym', 'neighborhood', 'submarket',\n",
              "       'borough'],\n",
              "      dtype='object')"
            ]
          },
          "metadata": {
            "tags": []
          },
          "execution_count": 45
        }
      ]
    },
    {
      "cell_type": "markdown",
      "metadata": {
        "id": "aJoO8r2_pCF_"
      },
      "source": [
        "**Step 2**"
      ]
    },
    {
      "cell_type": "code",
      "metadata": {
        "id": "WvyRsycepG9n",
        "outputId": "ea97b1a9-b490-4fa1-e3bd-898118a342c0",
        "colab": {
          "base_uri": "https://localhost:8080/",
          "height": 34
        }
      },
      "source": [
        "Y=data['rent']\n",
        "# X for step 3,4,final\n",
        "X=data.drop(columns=['rent','rental_id','neighborhood','building_id'])\n",
        "# X_droped for step 2\n",
        "X_droped= X.drop(columns=['submarket','borough'])\n",
        "\n",
        "X.shape\n",
        "\n"
      ],
      "execution_count": null,
      "outputs": [
        {
          "output_type": "execute_result",
          "data": {
            "text/plain": [
              "(5000, 16)"
            ]
          },
          "metadata": {
            "tags": []
          },
          "execution_count": 46
        }
      ]
    },
    {
      "cell_type": "code",
      "metadata": {
        "id": "LcKE9LlRqlbY",
        "outputId": "2df8fd08-d5ac-4942-80be-e5b6ab933031",
        "colab": {
          "base_uri": "https://localhost:8080/",
          "height": 165
        }
      },
      "source": [
        "X.head(2)"
      ],
      "execution_count": null,
      "outputs": [
        {
          "output_type": "execute_result",
          "data": {
            "text/html": [
              "<div>\n",
              "<style scoped>\n",
              "    .dataframe tbody tr th:only-of-type {\n",
              "        vertical-align: middle;\n",
              "    }\n",
              "\n",
              "    .dataframe tbody tr th {\n",
              "        vertical-align: top;\n",
              "    }\n",
              "\n",
              "    .dataframe thead th {\n",
              "        text-align: right;\n",
              "    }\n",
              "</style>\n",
              "<table border=\"1\" class=\"dataframe\">\n",
              "  <thead>\n",
              "    <tr style=\"text-align: right;\">\n",
              "      <th></th>\n",
              "      <th>bedrooms</th>\n",
              "      <th>bathrooms</th>\n",
              "      <th>size_sqft</th>\n",
              "      <th>min_to_subway</th>\n",
              "      <th>floor</th>\n",
              "      <th>building_age_yrs</th>\n",
              "      <th>no_fee</th>\n",
              "      <th>has_roofdeck</th>\n",
              "      <th>has_washer_dryer</th>\n",
              "      <th>has_doorman</th>\n",
              "      <th>has_elevator</th>\n",
              "      <th>has_dishwasher</th>\n",
              "      <th>has_patio</th>\n",
              "      <th>has_gym</th>\n",
              "      <th>submarket</th>\n",
              "      <th>borough</th>\n",
              "    </tr>\n",
              "  </thead>\n",
              "  <tbody>\n",
              "    <tr>\n",
              "      <th>0</th>\n",
              "      <td>0.0</td>\n",
              "      <td>1</td>\n",
              "      <td>480</td>\n",
              "      <td>9</td>\n",
              "      <td>2.0</td>\n",
              "      <td>17</td>\n",
              "      <td>1</td>\n",
              "      <td>1</td>\n",
              "      <td>0</td>\n",
              "      <td>0</td>\n",
              "      <td>1</td>\n",
              "      <td>1</td>\n",
              "      <td>0</td>\n",
              "      <td>1</td>\n",
              "      <td>All Upper East Side</td>\n",
              "      <td>Manhattan</td>\n",
              "    </tr>\n",
              "    <tr>\n",
              "      <th>1</th>\n",
              "      <td>2.0</td>\n",
              "      <td>2</td>\n",
              "      <td>2000</td>\n",
              "      <td>4</td>\n",
              "      <td>1.0</td>\n",
              "      <td>96</td>\n",
              "      <td>0</td>\n",
              "      <td>0</td>\n",
              "      <td>0</td>\n",
              "      <td>0</td>\n",
              "      <td>0</td>\n",
              "      <td>0</td>\n",
              "      <td>0</td>\n",
              "      <td>0</td>\n",
              "      <td>All Downtown</td>\n",
              "      <td>Manhattan</td>\n",
              "    </tr>\n",
              "  </tbody>\n",
              "</table>\n",
              "</div>"
            ],
            "text/plain": [
              "   bedrooms  bathrooms  size_sqft  ...  has_gym            submarket    borough\n",
              "0       0.0          1        480  ...        1  All Upper East Side  Manhattan\n",
              "1       2.0          2       2000  ...        0         All Downtown  Manhattan\n",
              "\n",
              "[2 rows x 16 columns]"
            ]
          },
          "metadata": {
            "tags": []
          },
          "execution_count": 47
        }
      ]
    },
    {
      "cell_type": "code",
      "metadata": {
        "id": "orio8LiWrJYT",
        "outputId": "49188ac5-05d2-42dd-983e-5881b5dbbfbd",
        "colab": {
          "base_uri": "https://localhost:8080/",
          "height": 34
        }
      },
      "source": [
        "X_train, X_test, y_train, y_test = train_test_split(X_droped,Y, test_size=0.2)\n",
        "model = LinearRegression(normalize=True)\n",
        "model.fit(X_train, y_train)\n",
        "y_predict=model.predict(X_test)\n",
        "r2_score(y_test, y_predict)"
      ],
      "execution_count": null,
      "outputs": [
        {
          "output_type": "execute_result",
          "data": {
            "text/plain": [
              "0.7343946046073938"
            ]
          },
          "metadata": {
            "tags": []
          },
          "execution_count": 48
        }
      ]
    },
    {
      "cell_type": "code",
      "metadata": {
        "id": "6TPJ8npByI0C",
        "outputId": "cef6b68f-498b-467c-a676-b225b84395bb",
        "colab": {
          "base_uri": "https://localhost:8080/",
          "height": 309
        }
      },
      "source": [
        "X.head()"
      ],
      "execution_count": null,
      "outputs": [
        {
          "output_type": "execute_result",
          "data": {
            "text/html": [
              "<div>\n",
              "<style scoped>\n",
              "    .dataframe tbody tr th:only-of-type {\n",
              "        vertical-align: middle;\n",
              "    }\n",
              "\n",
              "    .dataframe tbody tr th {\n",
              "        vertical-align: top;\n",
              "    }\n",
              "\n",
              "    .dataframe thead th {\n",
              "        text-align: right;\n",
              "    }\n",
              "</style>\n",
              "<table border=\"1\" class=\"dataframe\">\n",
              "  <thead>\n",
              "    <tr style=\"text-align: right;\">\n",
              "      <th></th>\n",
              "      <th>bedrooms</th>\n",
              "      <th>bathrooms</th>\n",
              "      <th>size_sqft</th>\n",
              "      <th>min_to_subway</th>\n",
              "      <th>floor</th>\n",
              "      <th>building_age_yrs</th>\n",
              "      <th>no_fee</th>\n",
              "      <th>has_roofdeck</th>\n",
              "      <th>has_washer_dryer</th>\n",
              "      <th>has_doorman</th>\n",
              "      <th>has_elevator</th>\n",
              "      <th>has_dishwasher</th>\n",
              "      <th>has_patio</th>\n",
              "      <th>has_gym</th>\n",
              "      <th>submarket</th>\n",
              "      <th>borough</th>\n",
              "    </tr>\n",
              "  </thead>\n",
              "  <tbody>\n",
              "    <tr>\n",
              "      <th>0</th>\n",
              "      <td>0.0</td>\n",
              "      <td>1</td>\n",
              "      <td>480</td>\n",
              "      <td>9</td>\n",
              "      <td>2.0</td>\n",
              "      <td>17</td>\n",
              "      <td>1</td>\n",
              "      <td>1</td>\n",
              "      <td>0</td>\n",
              "      <td>0</td>\n",
              "      <td>1</td>\n",
              "      <td>1</td>\n",
              "      <td>0</td>\n",
              "      <td>1</td>\n",
              "      <td>All Upper East Side</td>\n",
              "      <td>Manhattan</td>\n",
              "    </tr>\n",
              "    <tr>\n",
              "      <th>1</th>\n",
              "      <td>2.0</td>\n",
              "      <td>2</td>\n",
              "      <td>2000</td>\n",
              "      <td>4</td>\n",
              "      <td>1.0</td>\n",
              "      <td>96</td>\n",
              "      <td>0</td>\n",
              "      <td>0</td>\n",
              "      <td>0</td>\n",
              "      <td>0</td>\n",
              "      <td>0</td>\n",
              "      <td>0</td>\n",
              "      <td>0</td>\n",
              "      <td>0</td>\n",
              "      <td>All Downtown</td>\n",
              "      <td>Manhattan</td>\n",
              "    </tr>\n",
              "    <tr>\n",
              "      <th>2</th>\n",
              "      <td>3.0</td>\n",
              "      <td>1</td>\n",
              "      <td>1000</td>\n",
              "      <td>4</td>\n",
              "      <td>1.0</td>\n",
              "      <td>106</td>\n",
              "      <td>0</td>\n",
              "      <td>0</td>\n",
              "      <td>0</td>\n",
              "      <td>0</td>\n",
              "      <td>0</td>\n",
              "      <td>0</td>\n",
              "      <td>0</td>\n",
              "      <td>0</td>\n",
              "      <td>Northwest Queens</td>\n",
              "      <td>Queens</td>\n",
              "    </tr>\n",
              "    <tr>\n",
              "      <th>3</th>\n",
              "      <td>1.0</td>\n",
              "      <td>1</td>\n",
              "      <td>916</td>\n",
              "      <td>2</td>\n",
              "      <td>51.0</td>\n",
              "      <td>29</td>\n",
              "      <td>0</td>\n",
              "      <td>1</td>\n",
              "      <td>0</td>\n",
              "      <td>1</td>\n",
              "      <td>1</td>\n",
              "      <td>1</td>\n",
              "      <td>0</td>\n",
              "      <td>0</td>\n",
              "      <td>All Midtown</td>\n",
              "      <td>Manhattan</td>\n",
              "    </tr>\n",
              "    <tr>\n",
              "      <th>4</th>\n",
              "      <td>1.0</td>\n",
              "      <td>1</td>\n",
              "      <td>975</td>\n",
              "      <td>3</td>\n",
              "      <td>8.0</td>\n",
              "      <td>31</td>\n",
              "      <td>0</td>\n",
              "      <td>0</td>\n",
              "      <td>0</td>\n",
              "      <td>1</td>\n",
              "      <td>1</td>\n",
              "      <td>1</td>\n",
              "      <td>0</td>\n",
              "      <td>1</td>\n",
              "      <td>All Downtown</td>\n",
              "      <td>Manhattan</td>\n",
              "    </tr>\n",
              "  </tbody>\n",
              "</table>\n",
              "</div>"
            ],
            "text/plain": [
              "   bedrooms  bathrooms  size_sqft  ...  has_gym            submarket    borough\n",
              "0       0.0          1        480  ...        1  All Upper East Side  Manhattan\n",
              "1       2.0          2       2000  ...        0         All Downtown  Manhattan\n",
              "2       3.0          1       1000  ...        0     Northwest Queens     Queens\n",
              "3       1.0          1        916  ...        0          All Midtown  Manhattan\n",
              "4       1.0          1        975  ...        1         All Downtown  Manhattan\n",
              "\n",
              "[5 rows x 16 columns]"
            ]
          },
          "metadata": {
            "tags": []
          },
          "execution_count": 49
        }
      ]
    },
    {
      "cell_type": "markdown",
      "metadata": {
        "id": "Mgv2RkUkJKsa"
      },
      "source": [
        "**Step 3**"
      ]
    },
    {
      "cell_type": "code",
      "metadata": {
        "id": "pcvmxGw3H7am",
        "outputId": "1182288e-d027-4055-c5d4-c6254256b50a",
        "colab": {
          "base_uri": "https://localhost:8080/",
          "height": 258
        }
      },
      "source": [
        "X_dummies = pd.get_dummies(X,columns=['submarket','borough'])\n",
        "X_dummies.head()"
      ],
      "execution_count": null,
      "outputs": [
        {
          "output_type": "execute_result",
          "data": {
            "text/html": [
              "<div>\n",
              "<style scoped>\n",
              "    .dataframe tbody tr th:only-of-type {\n",
              "        vertical-align: middle;\n",
              "    }\n",
              "\n",
              "    .dataframe tbody tr th {\n",
              "        vertical-align: top;\n",
              "    }\n",
              "\n",
              "    .dataframe thead th {\n",
              "        text-align: right;\n",
              "    }\n",
              "</style>\n",
              "<table border=\"1\" class=\"dataframe\">\n",
              "  <thead>\n",
              "    <tr style=\"text-align: right;\">\n",
              "      <th></th>\n",
              "      <th>bedrooms</th>\n",
              "      <th>bathrooms</th>\n",
              "      <th>size_sqft</th>\n",
              "      <th>min_to_subway</th>\n",
              "      <th>floor</th>\n",
              "      <th>building_age_yrs</th>\n",
              "      <th>no_fee</th>\n",
              "      <th>has_roofdeck</th>\n",
              "      <th>has_washer_dryer</th>\n",
              "      <th>has_doorman</th>\n",
              "      <th>has_elevator</th>\n",
              "      <th>has_dishwasher</th>\n",
              "      <th>has_patio</th>\n",
              "      <th>has_gym</th>\n",
              "      <th>submarket_All Downtown</th>\n",
              "      <th>submarket_All Midtown</th>\n",
              "      <th>submarket_All Upper East Side</th>\n",
              "      <th>submarket_All Upper Manhattan</th>\n",
              "      <th>submarket_All Upper West Side</th>\n",
              "      <th>submarket_Central Queens</th>\n",
              "      <th>submarket_East Brooklyn</th>\n",
              "      <th>submarket_North Brooklyn</th>\n",
              "      <th>submarket_Northeast Queens</th>\n",
              "      <th>submarket_Northwest Brooklyn</th>\n",
              "      <th>submarket_Northwest Queens</th>\n",
              "      <th>submarket_Prospect Park</th>\n",
              "      <th>submarket_South Brooklyn</th>\n",
              "      <th>submarket_South Queens</th>\n",
              "      <th>submarket_The Rockaways</th>\n",
              "      <th>borough_Brooklyn</th>\n",
              "      <th>borough_Manhattan</th>\n",
              "      <th>borough_Queens</th>\n",
              "    </tr>\n",
              "  </thead>\n",
              "  <tbody>\n",
              "    <tr>\n",
              "      <th>0</th>\n",
              "      <td>0.0</td>\n",
              "      <td>1</td>\n",
              "      <td>480</td>\n",
              "      <td>9</td>\n",
              "      <td>2.0</td>\n",
              "      <td>17</td>\n",
              "      <td>1</td>\n",
              "      <td>1</td>\n",
              "      <td>0</td>\n",
              "      <td>0</td>\n",
              "      <td>1</td>\n",
              "      <td>1</td>\n",
              "      <td>0</td>\n",
              "      <td>1</td>\n",
              "      <td>0</td>\n",
              "      <td>0</td>\n",
              "      <td>1</td>\n",
              "      <td>0</td>\n",
              "      <td>0</td>\n",
              "      <td>0</td>\n",
              "      <td>0</td>\n",
              "      <td>0</td>\n",
              "      <td>0</td>\n",
              "      <td>0</td>\n",
              "      <td>0</td>\n",
              "      <td>0</td>\n",
              "      <td>0</td>\n",
              "      <td>0</td>\n",
              "      <td>0</td>\n",
              "      <td>0</td>\n",
              "      <td>1</td>\n",
              "      <td>0</td>\n",
              "    </tr>\n",
              "    <tr>\n",
              "      <th>1</th>\n",
              "      <td>2.0</td>\n",
              "      <td>2</td>\n",
              "      <td>2000</td>\n",
              "      <td>4</td>\n",
              "      <td>1.0</td>\n",
              "      <td>96</td>\n",
              "      <td>0</td>\n",
              "      <td>0</td>\n",
              "      <td>0</td>\n",
              "      <td>0</td>\n",
              "      <td>0</td>\n",
              "      <td>0</td>\n",
              "      <td>0</td>\n",
              "      <td>0</td>\n",
              "      <td>1</td>\n",
              "      <td>0</td>\n",
              "      <td>0</td>\n",
              "      <td>0</td>\n",
              "      <td>0</td>\n",
              "      <td>0</td>\n",
              "      <td>0</td>\n",
              "      <td>0</td>\n",
              "      <td>0</td>\n",
              "      <td>0</td>\n",
              "      <td>0</td>\n",
              "      <td>0</td>\n",
              "      <td>0</td>\n",
              "      <td>0</td>\n",
              "      <td>0</td>\n",
              "      <td>0</td>\n",
              "      <td>1</td>\n",
              "      <td>0</td>\n",
              "    </tr>\n",
              "    <tr>\n",
              "      <th>2</th>\n",
              "      <td>3.0</td>\n",
              "      <td>1</td>\n",
              "      <td>1000</td>\n",
              "      <td>4</td>\n",
              "      <td>1.0</td>\n",
              "      <td>106</td>\n",
              "      <td>0</td>\n",
              "      <td>0</td>\n",
              "      <td>0</td>\n",
              "      <td>0</td>\n",
              "      <td>0</td>\n",
              "      <td>0</td>\n",
              "      <td>0</td>\n",
              "      <td>0</td>\n",
              "      <td>0</td>\n",
              "      <td>0</td>\n",
              "      <td>0</td>\n",
              "      <td>0</td>\n",
              "      <td>0</td>\n",
              "      <td>0</td>\n",
              "      <td>0</td>\n",
              "      <td>0</td>\n",
              "      <td>0</td>\n",
              "      <td>0</td>\n",
              "      <td>1</td>\n",
              "      <td>0</td>\n",
              "      <td>0</td>\n",
              "      <td>0</td>\n",
              "      <td>0</td>\n",
              "      <td>0</td>\n",
              "      <td>0</td>\n",
              "      <td>1</td>\n",
              "    </tr>\n",
              "    <tr>\n",
              "      <th>3</th>\n",
              "      <td>1.0</td>\n",
              "      <td>1</td>\n",
              "      <td>916</td>\n",
              "      <td>2</td>\n",
              "      <td>51.0</td>\n",
              "      <td>29</td>\n",
              "      <td>0</td>\n",
              "      <td>1</td>\n",
              "      <td>0</td>\n",
              "      <td>1</td>\n",
              "      <td>1</td>\n",
              "      <td>1</td>\n",
              "      <td>0</td>\n",
              "      <td>0</td>\n",
              "      <td>0</td>\n",
              "      <td>1</td>\n",
              "      <td>0</td>\n",
              "      <td>0</td>\n",
              "      <td>0</td>\n",
              "      <td>0</td>\n",
              "      <td>0</td>\n",
              "      <td>0</td>\n",
              "      <td>0</td>\n",
              "      <td>0</td>\n",
              "      <td>0</td>\n",
              "      <td>0</td>\n",
              "      <td>0</td>\n",
              "      <td>0</td>\n",
              "      <td>0</td>\n",
              "      <td>0</td>\n",
              "      <td>1</td>\n",
              "      <td>0</td>\n",
              "    </tr>\n",
              "    <tr>\n",
              "      <th>4</th>\n",
              "      <td>1.0</td>\n",
              "      <td>1</td>\n",
              "      <td>975</td>\n",
              "      <td>3</td>\n",
              "      <td>8.0</td>\n",
              "      <td>31</td>\n",
              "      <td>0</td>\n",
              "      <td>0</td>\n",
              "      <td>0</td>\n",
              "      <td>1</td>\n",
              "      <td>1</td>\n",
              "      <td>1</td>\n",
              "      <td>0</td>\n",
              "      <td>1</td>\n",
              "      <td>1</td>\n",
              "      <td>0</td>\n",
              "      <td>0</td>\n",
              "      <td>0</td>\n",
              "      <td>0</td>\n",
              "      <td>0</td>\n",
              "      <td>0</td>\n",
              "      <td>0</td>\n",
              "      <td>0</td>\n",
              "      <td>0</td>\n",
              "      <td>0</td>\n",
              "      <td>0</td>\n",
              "      <td>0</td>\n",
              "      <td>0</td>\n",
              "      <td>0</td>\n",
              "      <td>0</td>\n",
              "      <td>1</td>\n",
              "      <td>0</td>\n",
              "    </tr>\n",
              "  </tbody>\n",
              "</table>\n",
              "</div>"
            ],
            "text/plain": [
              "   bedrooms  bathrooms  ...  borough_Manhattan  borough_Queens\n",
              "0       0.0          1  ...                  1               0\n",
              "1       2.0          2  ...                  1               0\n",
              "2       3.0          1  ...                  0               1\n",
              "3       1.0          1  ...                  1               0\n",
              "4       1.0          1  ...                  1               0\n",
              "\n",
              "[5 rows x 32 columns]"
            ]
          },
          "metadata": {
            "tags": []
          },
          "execution_count": 50
        }
      ]
    },
    {
      "cell_type": "code",
      "metadata": {
        "id": "xTa_g3zlK9J4",
        "outputId": "b79d4bee-ef26-480a-92b0-b0a997e2a38b",
        "colab": {
          "base_uri": "https://localhost:8080/",
          "height": 34
        }
      },
      "source": [
        "X_train, X_test, y_train, y_test = train_test_split(X_dummies,Y, test_size=0.2)\n",
        "model = LinearRegression(normalize=False)\n",
        "model.fit(X_train, y_train)\n",
        "y_predict=model.predict(X_test)\n",
        "r2_score(y_test, y_predict)"
      ],
      "execution_count": null,
      "outputs": [
        {
          "output_type": "execute_result",
          "data": {
            "text/plain": [
              "0.80168339311738"
            ]
          },
          "metadata": {
            "tags": []
          },
          "execution_count": 51
        }
      ]
    },
    {
      "cell_type": "markdown",
      "metadata": {
        "id": "lJV0Bdm0yI0m"
      },
      "source": [
        "# step 4"
      ]
    },
    {
      "cell_type": "code",
      "metadata": {
        "id": "SePc7y8dyI0n",
        "outputId": "1c1ace79-ee08-49b6-fded-e5b5ada8ff66",
        "colab": {
          "base_uri": "https://localhost:8080/",
          "height": 279
        }
      },
      "source": [
        "sns.distplot(Y)\n",
        "plt.show()"
      ],
      "execution_count": null,
      "outputs": [
        {
          "output_type": "display_data",
          "data": {
            "image/png": "[encoded data removed]",
            "text/plain": [
              "<Figure size 432x288 with 1 Axes>"
            ]
          },
          "metadata": {
            "tags": [],
            "needs_background": "light"
          }
        }
      ]
    },
    {
      "cell_type": "code",
      "metadata": {
        "id": "JgwEfP7lyI0t",
        "outputId": "0338e131-0155-4c96-b620-797e82f8aff8",
        "colab": {
          "base_uri": "https://localhost:8080/",
          "height": 279
        }
      },
      "source": [
        "Y_log = np.log(Y)\n",
        "sns.distplot(Y_log)\n",
        "plt.show()\n"
      ],
      "execution_count": null,
      "outputs": [
        {
          "output_type": "display_data",
          "data": {
            "image/png": "[encoded data removed]",
            "text/plain": [
              "<Figure size 432x288 with 1 Axes>"
            ]
          },
          "metadata": {
            "tags": [],
            "needs_background": "light"
          }
        }
      ]
    },
    {
      "cell_type": "code",
      "metadata": {
        "id": "YafdK8RsyI0z",
        "outputId": "9f36a04a-ec4e-48b6-a7d1-8eea83990665",
        "colab": {
          "base_uri": "https://localhost:8080/",
          "height": 34
        }
      },
      "source": [
        "X_train, X_test, y_train, y_test = train_test_split(X_dummies,Y_log, test_size=0.2)\n",
        "model = LinearRegression(normalize=True)\n",
        "model.fit(X_train, y_train)\n",
        "y_predict=model.predict(X_test)\n",
        "r2_score(y_test, y_predict)"
      ],
      "execution_count": null,
      "outputs": [
        {
          "output_type": "execute_result",
          "data": {
            "text/plain": [
              "-1.3267526086771694e+20"
            ]
          },
          "metadata": {
            "tags": []
          },
          "execution_count": 54
        }
      ]
    },
    {
      "cell_type": "code",
      "metadata": {
        "id": "LCytb4dRyI0-",
        "outputId": "0a271eea-e6f4-4590-fd04-dd2463495dec",
        "colab": {
          "base_uri": "https://localhost:8080/",
          "height": 34
        }
      },
      "source": [
        "X_train, X_test, y_train, y_test = train_test_split(X_dummies,Y_log, test_size=0.2)\n",
        "model = LinearRegression(normalize=False)\n",
        "model.fit(X_train, y_train)\n",
        "y_predict=model.predict(X_test)\n",
        "r2_score(y_test, y_predict)"
      ],
      "execution_count": null,
      "outputs": [
        {
          "output_type": "execute_result",
          "data": {
            "text/plain": [
              "0.8423159048711364"
            ]
          },
          "metadata": {
            "tags": []
          },
          "execution_count": 55
        }
      ]
    },
    {
      "cell_type": "code",
      "metadata": {
        "scrolled": true,
        "id": "7m9OBOIRyI1Q",
        "outputId": "53921c8b-f4b1-499f-f3bc-4c1b84e2a8b9",
        "colab": {
          "base_uri": "https://localhost:8080/",
          "height": 279
        }
      },
      "source": [
        "sns.distplot(1/Y)\n",
        "plt.show()"
      ],
      "execution_count": null,
      "outputs": [
        {
          "output_type": "display_data",
          "data": {
            "image/png": "[encoded data removed]",
            "text/plain": [
              "<Figure size 432x288 with 1 Axes>"
            ]
          },
          "metadata": {
            "tags": [],
            "needs_background": "light"
          }
        }
      ]
    },
    {
      "cell_type": "code",
      "metadata": {
        "id": "P_Qiq3tZyI1U",
        "outputId": "834fb327-96ea-438a-ea53-b4256843eb5d",
        "colab": {
          "base_uri": "https://localhost:8080/",
          "height": 34
        }
      },
      "source": [
        "X_train, X_test, y_train, y_test = train_test_split(X_dummies,1/Y, test_size=0.2)\n",
        "model = LinearRegression(normalize=False)\n",
        "model.fit(X_train, y_train)\n",
        "y_predict=model.predict(X_test)\n",
        "r2_score(y_test, y_predict)"
      ],
      "execution_count": null,
      "outputs": [
        {
          "output_type": "execute_result",
          "data": {
            "text/plain": [
              "0.8191719926366454"
            ]
          },
          "metadata": {
            "tags": []
          },
          "execution_count": 57
        }
      ]
    },
    {
      "cell_type": "code",
      "metadata": {
        "id": "fdq0ayc5yI1d",
        "outputId": "d5e03f92-8aa2-45b7-f273-0a53c10115cf",
        "colab": {
          "base_uri": "https://localhost:8080/",
          "height": 34
        }
      },
      "source": [
        "X_train, X_test, y_train, y_test = train_test_split(X_dummies,1/Y, test_size=0.2)\n",
        "model = LinearRegression(normalize=True)\n",
        "model.fit(X_train, y_train)\n",
        "y_predict=model.predict(X_test)\n",
        "r2_score(y_test, y_predict)"
      ],
      "execution_count": null,
      "outputs": [
        {
          "output_type": "execute_result",
          "data": {
            "text/plain": [
              "0.7992418417772884"
            ]
          },
          "metadata": {
            "tags": []
          },
          "execution_count": 58
        }
      ]
    },
    {
      "cell_type": "code",
      "metadata": {
        "id": "03Fti6pmyI1u",
        "outputId": "d0a09ca0-4d6f-4089-a18a-01c7082602f2",
        "colab": {
          "base_uri": "https://localhost:8080/",
          "height": 34
        }
      },
      "source": [
        "score = []\n",
        "\n",
        "for i in np.arange(0, 100, 1):\n",
        "    X_train, X_test, Y_train, Y_test = train_test_split(X_dummies,Y_log, test_size=0.2)\n",
        "    reg = LinearRegression(normalize=False)\n",
        "    reg.fit(X_train, Y_train)\n",
        "    r2_score(Y_test, reg.predict(X_test))\n",
        "    score.append(r2_score(Y_test, reg.predict(X_test)))\n",
        "\n",
        "np.mean(score)\n"
      ],
      "execution_count": null,
      "outputs": [
        {
          "output_type": "execute_result",
          "data": {
            "text/plain": [
              "0.854028216609156"
            ]
          },
          "metadata": {
            "tags": []
          },
          "execution_count": 59
        }
      ]
    },
    {
      "cell_type": "markdown",
      "metadata": {
        "id": "pfSv7hOWfAB0"
      },
      "source": [
        "**High Correlation Filter**"
      ]
    },
    {
      "cell_type": "code",
      "metadata": {
        "id": "oIN8ohN1yI13",
        "outputId": "84eff01f-05b4-4838-ccae-3a51c83145ef",
        "colab": {
          "base_uri": "https://localhost:8080/",
          "height": 503
        }
      },
      "source": [
        "corr= X.corr()\n",
        "corr"
      ],
      "execution_count": null,
      "outputs": [
        {
          "output_type": "execute_result",
          "data": {
            "text/html": [
              "<div>\n",
              "<style scoped>\n",
              "    .dataframe tbody tr th:only-of-type {\n",
              "        vertical-align: middle;\n",
              "    }\n",
              "\n",
              "    .dataframe tbody tr th {\n",
              "        vertical-align: top;\n",
              "    }\n",
              "\n",
              "    .dataframe thead th {\n",
              "        text-align: right;\n",
              "    }\n",
              "</style>\n",
              "<table border=\"1\" class=\"dataframe\">\n",
              "  <thead>\n",
              "    <tr style=\"text-align: right;\">\n",
              "      <th></th>\n",
              "      <th>bedrooms</th>\n",
              "      <th>bathrooms</th>\n",
              "      <th>size_sqft</th>\n",
              "      <th>min_to_subway</th>\n",
              "      <th>floor</th>\n",
              "      <th>building_age_yrs</th>\n",
              "      <th>no_fee</th>\n",
              "      <th>has_roofdeck</th>\n",
              "      <th>has_washer_dryer</th>\n",
              "      <th>has_doorman</th>\n",
              "      <th>has_elevator</th>\n",
              "      <th>has_dishwasher</th>\n",
              "      <th>has_patio</th>\n",
              "      <th>has_gym</th>\n",
              "    </tr>\n",
              "  </thead>\n",
              "  <tbody>\n",
              "    <tr>\n",
              "      <th>bedrooms</th>\n",
              "      <td>1.000000</td>\n",
              "      <td>0.647499</td>\n",
              "      <td>0.738410</td>\n",
              "      <td>0.053365</td>\n",
              "      <td>-0.006468</td>\n",
              "      <td>0.070329</td>\n",
              "      <td>-0.067047</td>\n",
              "      <td>-0.012395</td>\n",
              "      <td>-0.002582</td>\n",
              "      <td>-0.034031</td>\n",
              "      <td>-0.027457</td>\n",
              "      <td>-0.007094</td>\n",
              "      <td>0.003772</td>\n",
              "      <td>-0.018393</td>\n",
              "    </tr>\n",
              "    <tr>\n",
              "      <th>bathrooms</th>\n",
              "      <td>0.647499</td>\n",
              "      <td>1.000000</td>\n",
              "      <td>0.770593</td>\n",
              "      <td>0.054891</td>\n",
              "      <td>0.145303</td>\n",
              "      <td>-0.103050</td>\n",
              "      <td>-0.052726</td>\n",
              "      <td>0.044597</td>\n",
              "      <td>0.052827</td>\n",
              "      <td>0.044997</td>\n",
              "      <td>0.051410</td>\n",
              "      <td>0.060295</td>\n",
              "      <td>0.057091</td>\n",
              "      <td>0.057221</td>\n",
              "    </tr>\n",
              "    <tr>\n",
              "      <th>size_sqft</th>\n",
              "      <td>0.738410</td>\n",
              "      <td>0.770593</td>\n",
              "      <td>1.000000</td>\n",
              "      <td>0.024422</td>\n",
              "      <td>0.100234</td>\n",
              "      <td>0.026434</td>\n",
              "      <td>-0.129534</td>\n",
              "      <td>0.038302</td>\n",
              "      <td>0.052746</td>\n",
              "      <td>0.046402</td>\n",
              "      <td>0.060830</td>\n",
              "      <td>0.063051</td>\n",
              "      <td>0.036600</td>\n",
              "      <td>0.047815</td>\n",
              "    </tr>\n",
              "    <tr>\n",
              "      <th>min_to_subway</th>\n",
              "      <td>0.053365</td>\n",
              "      <td>0.054891</td>\n",
              "      <td>0.024422</td>\n",
              "      <td>1.000000</td>\n",
              "      <td>0.029242</td>\n",
              "      <td>-0.138273</td>\n",
              "      <td>0.054977</td>\n",
              "      <td>-0.021765</td>\n",
              "      <td>-0.017840</td>\n",
              "      <td>-0.006722</td>\n",
              "      <td>-0.014314</td>\n",
              "      <td>-0.022058</td>\n",
              "      <td>-0.005652</td>\n",
              "      <td>-0.014924</td>\n",
              "    </tr>\n",
              "    <tr>\n",
              "      <th>floor</th>\n",
              "      <td>-0.006468</td>\n",
              "      <td>0.145303</td>\n",
              "      <td>0.100234</td>\n",
              "      <td>0.029242</td>\n",
              "      <td>1.000000</td>\n",
              "      <td>-0.352757</td>\n",
              "      <td>0.088094</td>\n",
              "      <td>0.079554</td>\n",
              "      <td>0.060379</td>\n",
              "      <td>0.123108</td>\n",
              "      <td>0.109258</td>\n",
              "      <td>0.036979</td>\n",
              "      <td>0.068119</td>\n",
              "      <td>0.089361</td>\n",
              "    </tr>\n",
              "    <tr>\n",
              "      <th>building_age_yrs</th>\n",
              "      <td>0.070329</td>\n",
              "      <td>-0.103050</td>\n",
              "      <td>0.026434</td>\n",
              "      <td>-0.138273</td>\n",
              "      <td>-0.352757</td>\n",
              "      <td>1.000000</td>\n",
              "      <td>-0.213815</td>\n",
              "      <td>-0.055064</td>\n",
              "      <td>-0.031511</td>\n",
              "      <td>-0.058163</td>\n",
              "      <td>-0.067261</td>\n",
              "      <td>-0.040078</td>\n",
              "      <td>-0.048155</td>\n",
              "      <td>-0.063687</td>\n",
              "    </tr>\n",
              "    <tr>\n",
              "      <th>no_fee</th>\n",
              "      <td>-0.067047</td>\n",
              "      <td>-0.052726</td>\n",
              "      <td>-0.129534</td>\n",
              "      <td>0.054977</td>\n",
              "      <td>0.088094</td>\n",
              "      <td>-0.213815</td>\n",
              "      <td>1.000000</td>\n",
              "      <td>-0.089593</td>\n",
              "      <td>-0.082366</td>\n",
              "      <td>-0.175022</td>\n",
              "      <td>-0.155638</td>\n",
              "      <td>-0.086081</td>\n",
              "      <td>-0.052192</td>\n",
              "      <td>-0.105797</td>\n",
              "    </tr>\n",
              "    <tr>\n",
              "      <th>has_roofdeck</th>\n",
              "      <td>-0.012395</td>\n",
              "      <td>0.044597</td>\n",
              "      <td>0.038302</td>\n",
              "      <td>-0.021765</td>\n",
              "      <td>0.079554</td>\n",
              "      <td>-0.055064</td>\n",
              "      <td>-0.089593</td>\n",
              "      <td>1.000000</td>\n",
              "      <td>0.331626</td>\n",
              "      <td>0.506101</td>\n",
              "      <td>0.535333</td>\n",
              "      <td>0.369123</td>\n",
              "      <td>0.145139</td>\n",
              "      <td>0.579826</td>\n",
              "    </tr>\n",
              "    <tr>\n",
              "      <th>has_washer_dryer</th>\n",
              "      <td>-0.002582</td>\n",
              "      <td>0.052827</td>\n",
              "      <td>0.052746</td>\n",
              "      <td>-0.017840</td>\n",
              "      <td>0.060379</td>\n",
              "      <td>-0.031511</td>\n",
              "      <td>-0.082366</td>\n",
              "      <td>0.331626</td>\n",
              "      <td>1.000000</td>\n",
              "      <td>0.356328</td>\n",
              "      <td>0.410523</td>\n",
              "      <td>0.471480</td>\n",
              "      <td>0.159091</td>\n",
              "      <td>0.376372</td>\n",
              "    </tr>\n",
              "    <tr>\n",
              "      <th>has_doorman</th>\n",
              "      <td>-0.034031</td>\n",
              "      <td>0.044997</td>\n",
              "      <td>0.046402</td>\n",
              "      <td>-0.006722</td>\n",
              "      <td>0.123108</td>\n",
              "      <td>-0.058163</td>\n",
              "      <td>-0.175022</td>\n",
              "      <td>0.506101</td>\n",
              "      <td>0.356328</td>\n",
              "      <td>1.000000</td>\n",
              "      <td>0.728208</td>\n",
              "      <td>0.374312</td>\n",
              "      <td>0.157709</td>\n",
              "      <td>0.648138</td>\n",
              "    </tr>\n",
              "    <tr>\n",
              "      <th>has_elevator</th>\n",
              "      <td>-0.027457</td>\n",
              "      <td>0.051410</td>\n",
              "      <td>0.060830</td>\n",
              "      <td>-0.014314</td>\n",
              "      <td>0.109258</td>\n",
              "      <td>-0.067261</td>\n",
              "      <td>-0.155638</td>\n",
              "      <td>0.535333</td>\n",
              "      <td>0.410523</td>\n",
              "      <td>0.728208</td>\n",
              "      <td>1.000000</td>\n",
              "      <td>0.451245</td>\n",
              "      <td>0.151027</td>\n",
              "      <td>0.659879</td>\n",
              "    </tr>\n",
              "    <tr>\n",
              "      <th>has_dishwasher</th>\n",
              "      <td>-0.007094</td>\n",
              "      <td>0.060295</td>\n",
              "      <td>0.063051</td>\n",
              "      <td>-0.022058</td>\n",
              "      <td>0.036979</td>\n",
              "      <td>-0.040078</td>\n",
              "      <td>-0.086081</td>\n",
              "      <td>0.369123</td>\n",
              "      <td>0.471480</td>\n",
              "      <td>0.374312</td>\n",
              "      <td>0.451245</td>\n",
              "      <td>1.000000</td>\n",
              "      <td>0.154786</td>\n",
              "      <td>0.379161</td>\n",
              "    </tr>\n",
              "    <tr>\n",
              "      <th>has_patio</th>\n",
              "      <td>0.003772</td>\n",
              "      <td>0.057091</td>\n",
              "      <td>0.036600</td>\n",
              "      <td>-0.005652</td>\n",
              "      <td>0.068119</td>\n",
              "      <td>-0.048155</td>\n",
              "      <td>-0.052192</td>\n",
              "      <td>0.145139</td>\n",
              "      <td>0.159091</td>\n",
              "      <td>0.157709</td>\n",
              "      <td>0.151027</td>\n",
              "      <td>0.154786</td>\n",
              "      <td>1.000000</td>\n",
              "      <td>0.150856</td>\n",
              "    </tr>\n",
              "    <tr>\n",
              "      <th>has_gym</th>\n",
              "      <td>-0.018393</td>\n",
              "      <td>0.057221</td>\n",
              "      <td>0.047815</td>\n",
              "      <td>-0.014924</td>\n",
              "      <td>0.089361</td>\n",
              "      <td>-0.063687</td>\n",
              "      <td>-0.105797</td>\n",
              "      <td>0.579826</td>\n",
              "      <td>0.376372</td>\n",
              "      <td>0.648138</td>\n",
              "      <td>0.659879</td>\n",
              "      <td>0.379161</td>\n",
              "      <td>0.150856</td>\n",
              "      <td>1.000000</td>\n",
              "    </tr>\n",
              "  </tbody>\n",
              "</table>\n",
              "</div>"
            ],
            "text/plain": [
              "                  bedrooms  bathrooms  ...  has_patio   has_gym\n",
              "bedrooms          1.000000   0.647499  ...   0.003772 -0.018393\n",
              "bathrooms         0.647499   1.000000  ...   0.057091  0.057221\n",
              "size_sqft         0.738410   0.770593  ...   0.036600  0.047815\n",
              "min_to_subway     0.053365   0.054891  ...  -0.005652 -0.014924\n",
              "floor            -0.006468   0.145303  ...   0.068119  0.089361\n",
              "building_age_yrs  0.070329  -0.103050  ...  -0.048155 -0.063687\n",
              "no_fee           -0.067047  -0.052726  ...  -0.052192 -0.105797\n",
              "has_roofdeck     -0.012395   0.044597  ...   0.145139  0.579826\n",
              "has_washer_dryer -0.002582   0.052827  ...   0.159091  0.376372\n",
              "has_doorman      -0.034031   0.044997  ...   0.157709  0.648138\n",
              "has_elevator     -0.027457   0.051410  ...   0.151027  0.659879\n",
              "has_dishwasher   -0.007094   0.060295  ...   0.154786  0.379161\n",
              "has_patio         0.003772   0.057091  ...   1.000000  0.150856\n",
              "has_gym          -0.018393   0.057221  ...   0.150856  1.000000\n",
              "\n",
              "[14 rows x 14 columns]"
            ]
          },
          "metadata": {
            "tags": []
          },
          "execution_count": 60
        }
      ]
    },
    {
      "cell_type": "code",
      "metadata": {
        "id": "tBDFU-njUCGu",
        "outputId": "c32f2b8b-92e5-4ceb-b182-61a1ca2e4773",
        "colab": {
          "base_uri": "https://localhost:8080/",
          "height": 693
        }
      },
      "source": [
        "plt.figure(figsize = (10,10))\n",
        "sns.heatmap(corr, vmin=-1, vmax=1)"
      ],
      "execution_count": null,
      "outputs": [
        {
          "output_type": "execute_result",
          "data": {
            "text/plain": [
              "<matplotlib.axes._subplots.AxesSubplot at 0x7f03534b6fd0>"
            ]
          },
          "metadata": {
            "tags": []
          },
          "execution_count": 61
        },
        {
          "output_type": "display_data",
          "data": {
            "image/png": "[encoded data removed]",
            "text/plain": [
              "<Figure size 720x720 with 2 Axes>"
            ]
          },
          "metadata": {
            "tags": [],
            "needs_background": "light"
          }
        }
      ]
    },
    {
      "cell_type": "code",
      "metadata": {
        "id": "fO-yVl6xandZ",
        "outputId": "06dd3190-afdb-4c52-955e-1ab24a0845c3",
        "colab": {
          "base_uri": "https://localhost:8080/",
          "height": 102
        }
      },
      "source": [
        "X.columns"
      ],
      "execution_count": null,
      "outputs": [
        {
          "output_type": "execute_result",
          "data": {
            "text/plain": [
              "Index(['bedrooms', 'bathrooms', 'size_sqft', 'min_to_subway', 'floor',\n",
              "       'building_age_yrs', 'no_fee', 'has_roofdeck', 'has_washer_dryer',\n",
              "       'has_doorman', 'has_elevator', 'has_dishwasher', 'has_patio', 'has_gym',\n",
              "       'submarket', 'borough'],\n",
              "      dtype='object')"
            ]
          },
          "metadata": {
            "tags": []
          },
          "execution_count": 62
        }
      ]
    },
    {
      "cell_type": "code",
      "metadata": {
        "id": "akdQhDqRacWt",
        "outputId": "c65561e1-db60-4a23-f113-e7661378656b",
        "colab": {
          "base_uri": "https://localhost:8080/",
          "height": 102
        }
      },
      "source": [
        "# Create correlation matrix\n",
        "corr_matrix = X.corr().abs()\n",
        "\n",
        "# Select upper triangle of correlation matrix\n",
        "upper = corr_matrix.where(np.triu(np.ones(corr_matrix.shape), k=1).astype(np.bool))\n",
        "\n",
        "# Find features with correlation greater than 0.75\n",
        "to_drop = [column for column in upper.columns if any(upper[column] > 0.75)]\n",
        "\n",
        "# Drop features/ Xcorr: x after High Correlation Filter\n",
        "Xcorr=X.drop(to_drop, axis=1, inplace=False)\n",
        "Xcorr.columns"
      ],
      "execution_count": null,
      "outputs": [
        {
          "output_type": "execute_result",
          "data": {
            "text/plain": [
              "Index(['bedrooms', 'bathrooms', 'min_to_subway', 'floor', 'building_age_yrs',\n",
              "       'no_fee', 'has_roofdeck', 'has_washer_dryer', 'has_doorman',\n",
              "       'has_elevator', 'has_dishwasher', 'has_patio', 'has_gym', 'submarket',\n",
              "       'borough'],\n",
              "      dtype='object')"
            ]
          },
          "metadata": {
            "tags": []
          },
          "execution_count": 63
        }
      ]
    },
    {
      "cell_type": "code",
      "metadata": {
        "id": "UGdnGZLMb0yf",
        "outputId": "4367d751-e236-4bf4-f747-8c22d5a80b66",
        "colab": {
          "base_uri": "https://localhost:8080/",
          "height": 34
        }
      },
      "source": [
        "#X_dummiescorr: x after High Correlation Filter and using get_dummies\n",
        "X_dummiescorr = pd.get_dummies(Xcorr,columns=['submarket','borough'])\n",
        "\n",
        "score = []\n",
        "\n",
        "for i in np.arange(0, 100, 1):\n",
        "    X_train, X_test, Y_train, Y_test = train_test_split(X_dummiescorr,Y_log, test_size=0.2)\n",
        "    reg = LinearRegression(normalize=False)\n",
        "    reg.fit(X_train, Y_train)\n",
        "    r2_score(Y_test, reg.predict(X_test))\n",
        "    score.append(r2_score(Y_test, reg.predict(X_test)))\n",
        "\n",
        "np.mean(score)\n"
      ],
      "execution_count": null,
      "outputs": [
        {
          "output_type": "execute_result",
          "data": {
            "text/plain": [
              "0.7692567725614283"
            ]
          },
          "metadata": {
            "tags": []
          },
          "execution_count": 64
        }
      ]
    },
    {
      "cell_type": "markdown",
      "metadata": {
        "id": "B1WGwp1De6QT"
      },
      "source": [
        "**ICA**"
      ]
    },
    {
      "cell_type": "code",
      "metadata": {
        "id": "dAu3UT3EfTjU",
        "outputId": "d6bbea4d-818b-4b00-baec-5f430e16c1c3",
        "colab": {
          "base_uri": "https://localhost:8080/",
          "height": 34
        }
      },
      "source": [
        "X_dummies.shape"
      ],
      "execution_count": null,
      "outputs": [
        {
          "output_type": "execute_result",
          "data": {
            "text/plain": [
              "(5000, 32)"
            ]
          },
          "metadata": {
            "tags": []
          },
          "execution_count": 65
        }
      ]
    },
    {
      "cell_type": "code",
      "metadata": {
        "id": "hcOvNftkcvcd",
        "outputId": "aa4023cd-33a8-4edd-f8b6-bd5384dbeae4",
        "colab": {
          "base_uri": "https://localhost:8080/",
          "height": 34
        }
      },
      "source": [
        "transformer = FastICA(n_components=28,random_state=0)\n",
        "# X_transformed: dimensionality reduction using ICA method for X_dummies\n",
        "X_transformed = transformer.fit_transform(X_dummies)\n",
        "X_transformed.shape"
      ],
      "execution_count": null,
      "outputs": [
        {
          "output_type": "execute_result",
          "data": {
            "text/plain": [
              "(5000, 28)"
            ]
          },
          "metadata": {
            "tags": []
          },
          "execution_count": 66
        }
      ]
    },
    {
      "cell_type": "code",
      "metadata": {
        "id": "1m6erxZmeY5g",
        "outputId": "cb7c6ce3-3da0-4c3d-fdb4-9377653f3043",
        "colab": {
          "base_uri": "https://localhost:8080/",
          "height": 34
        }
      },
      "source": [
        "score = []\n",
        "\n",
        "for i in np.arange(0, 100, 1):\n",
        "    X_train, X_test, Y_train, Y_test = train_test_split(X_transformed,Y_log, test_size=0.2)\n",
        "    reg = LinearRegression(normalize=False)\n",
        "    reg.fit(X_train, Y_train)\n",
        "    r2_score(Y_test, reg.predict(X_test))\n",
        "    score.append(r2_score(Y_test, reg.predict(X_test)))\n",
        "\n",
        "np.mean(score)"
      ],
      "execution_count": null,
      "outputs": [
        {
          "output_type": "execute_result",
          "data": {
            "text/plain": [
              "0.85454989520325"
            ]
          },
          "metadata": {
            "tags": []
          },
          "execution_count": 67
        }
      ]
    },
    {
      "cell_type": "markdown",
      "metadata": {
        "id": "hl1gXj46fmMb"
      },
      "source": [
        "**UMAP**"
      ]
    },
    {
      "cell_type": "code",
      "metadata": {
        "id": "rWyEpHzgxoqW",
        "outputId": "75c7866b-68d7-4b0e-d167-b8c9186bf823",
        "colab": {
          "base_uri": "https://localhost:8080/",
          "height": 34
        }
      },
      "source": [
        "X1=data.drop(columns=['rent','rental_id','building_id'])\n",
        "X1_dummies = pd.get_dummies(X1,columns=['submarket','borough','neighborhood'])\n",
        "X1_dummies.shape"
      ],
      "execution_count": null,
      "outputs": [
        {
          "output_type": "execute_result",
          "data": {
            "text/plain": [
              "(5000, 125)"
            ]
          },
          "metadata": {
            "tags": []
          },
          "execution_count": 68
        }
      ]
    },
    {
      "cell_type": "code",
      "metadata": {
        "id": "YgsVWU5Jfo4l",
        "outputId": "cbac7dc2-2fd5-4be6-8dbf-f06152b0d558",
        "colab": {
          "base_uri": "https://localhost:8080/",
          "height": 34
        }
      },
      "source": [
        "reducer = umap.UMAP(n_components=110)\n",
        "embedding = reducer.fit_transform(X1_dummies)\n",
        "embedding.shape"
      ],
      "execution_count": null,
      "outputs": [
        {
          "output_type": "execute_result",
          "data": {
            "text/plain": [
              "(5000, 110)"
            ]
          },
          "metadata": {
            "tags": []
          },
          "execution_count": 69
        }
      ]
    },
    {
      "cell_type": "code",
      "metadata": {
        "id": "adHRcGWTnCq2",
        "outputId": "b5b38e8c-1e28-4037-e549-ed004f3109ad",
        "colab": {
          "base_uri": "https://localhost:8080/",
          "height": 34
        }
      },
      "source": [
        "score = []\n",
        "\n",
        "for i in np.arange(0, 100, 1):\n",
        "    X_train, X_test, Y_train, Y_test = train_test_split(embedding,Y_log, test_size=0.2)\n",
        "    reg = LinearRegression(normalize=False)\n",
        "    reg.fit(X_train, Y_train)\n",
        "    r2_score(Y_test, reg.predict(X_test))\n",
        "    score.append(r2_score(Y_test, reg.predict(X_test)))\n",
        "\n",
        "np.mean(score)"
      ],
      "execution_count": null,
      "outputs": [
        {
          "output_type": "execute_result",
          "data": {
            "text/plain": [
              "0.6574575565530977"
            ]
          },
          "metadata": {
            "tags": []
          },
          "execution_count": 70
        }
      ]
    },
    {
      "cell_type": "markdown",
      "metadata": {
        "id": "xAjZY_lP1VRX"
      },
      "source": [
        "**Ridge**"
      ]
    },
    {
      "cell_type": "code",
      "metadata": {
        "id": "NTXWaTGP1T_-",
        "outputId": "842bd7c9-ff8a-49b1-f96b-6f0ba8e7085a",
        "colab": {
          "base_uri": "https://localhost:8080/",
          "height": 85
        }
      },
      "source": [
        "X_train, X_test, y_train, y_test = train_test_split(X_dummies,Y_log, test_size=0.2)\n",
        "X_train=preprocessing.scale(X_train)\n",
        "X_test=preprocessing.scale(X_test)\n",
        "y_train=preprocessing.scale(y_train)\n",
        "y_test=preprocessing.scale(y_test)\n",
        "\n",
        "rr = Ridge(alpha=0.01,normalize=False)\n",
        "rr.fit(X_train, y_train)\n",
        "pred_train_rr= rr.predict(X_train)\n",
        "print('MSE_train:',np.sqrt(mean_squared_error(y_train,pred_train_rr)))\n",
        "print('r2_score_train:',r2_score(y_train, pred_train_rr))\n",
        "\n",
        "pred_test_rr= rr.predict(X_test)\n",
        "print('MSE_test:',np.sqrt(mean_squared_error(y_test,pred_test_rr)))\n",
        "print('r2_score_test:',r2_score(y_test, pred_test_rr))\n",
        "\n"
      ],
      "execution_count": null,
      "outputs": [
        {
          "output_type": "stream",
          "text": [
            "MSE_train: 0.3791018984561559\n",
            "r2_score_train: 0.8562817505869385\n",
            "MSE_test: 0.3718145267822194\n",
            "r2_score_test: 0.8617539576737143\n"
          ],
          "name": "stdout"
        }
      ]
    },
    {
      "cell_type": "markdown",
      "metadata": {
        "id": "pWiTiSTa1Ya9"
      },
      "source": [
        " **Lasso**"
      ]
    },
    {
      "cell_type": "code",
      "metadata": {
        "id": "jCX0-HZ515yO",
        "outputId": "b5651adc-c67b-4ce4-80cf-d251f9751487",
        "colab": {
          "base_uri": "https://localhost:8080/",
          "height": 85
        }
      },
      "source": [
        "model_lasso = Lasso(alpha=0.01,normalize=False)\n",
        "model_lasso.fit(X_train, y_train)\n",
        "pred_train_lasso= model_lasso.predict(X_train)\n",
        "print('MSE_train:',np.sqrt(mean_squared_error(y_train,pred_train_lasso)))\n",
        "print('r2_score_train:',r2_score(y_train, pred_train_lasso))\n",
        "\n",
        "pred_test_lasso= model_lasso.predict(X_test)\n",
        "print('MSE_test:',np.sqrt(mean_squared_error(y_test,pred_test_lasso)))\n",
        "print('r2_score_test:',r2_score(y_test, pred_test_lasso))"
      ],
      "execution_count": null,
      "outputs": [
        {
          "output_type": "stream",
          "text": [
            "MSE_train: 0.3815272061201945\n",
            "r2_score_train: 0.8544369909901187\n",
            "MSE_test: 0.3737393941516346\n",
            "r2_score_test: 0.8603188652591691\n"
          ],
          "name": "stdout"
        }
      ]
    },
    {
      "cell_type": "markdown",
      "metadata": {
        "id": "NhikgSVZ171W"
      },
      "source": [
        "**Elastic** **Net**"
      ]
    },
    {
      "cell_type": "code",
      "metadata": {
        "id": "NWLeEfdM2APF",
        "outputId": "b30ed131-5833-44f9-f6ba-fcd4df7618bd",
        "colab": {
          "base_uri": "https://localhost:8080/",
          "height": 85
        }
      },
      "source": [
        "model_enet = ElasticNet(alpha = 0.01, normalize=False)\n",
        "model_enet.fit(X_train, y_train)\n",
        "pred_train_enet= model_enet.predict(X_train)\n",
        "print('MSE_train:',np.sqrt(mean_squared_error(y_train,pred_train_enet)))\n",
        "print('r2_score_train:',r2_score(y_train, pred_train_enet))\n",
        "\n",
        "pred_test_enet= model_enet.predict(X_test)\n",
        "print('MSE_test:',np.sqrt(mean_squared_error(y_test,pred_test_enet)))\n",
        "print('r2_score_test:',r2_score(y_test, pred_test_enet))"
      ],
      "execution_count": null,
      "outputs": [
        {
          "output_type": "stream",
          "text": [
            "MSE_train: 0.380124346674705\n",
            "r2_score_train: 0.8555054810651287\n",
            "MSE_test: 0.3722495439869019\n",
            "r2_score_test: 0.8614302770015436\n"
          ],
          "name": "stdout"
        }
      ]
    }
  ]
}